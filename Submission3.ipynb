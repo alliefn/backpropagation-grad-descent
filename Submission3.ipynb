{
 "cells": [
  {
   "cell_type": "code",
   "execution_count": null,
   "metadata": {},
   "outputs": [],
   "source": [
    "from utils import *\n",
    "from Backpropagation import *\n",
    "from sklearn.datasets import load_iris\n",
    "from sklearn.preprocessing import OneHotEncoder\n",
    "from sklearn.metrics import confusion_matrix as cm\n",
    "from sklearn.metrics import classification_report\n",
    "from sklearn.metrics import accuracy_score\n",
    "from sklearn.metrics import precision_score\n",
    "from sklearn.metrics import recall_score\n",
    "from sklearn.metrics import f1_score\n",
    "from sklearn.utils import shuffle\n",
    "from sklearn.model_selection import train_test_split\n",
    "from sklearn.model_selection import KFold\n",
    "import copy"
   ]
  },
  {
   "cell_type": "markdown",
   "metadata": {},
   "source": [
    "# Define Model"
   ]
  },
  {
   "cell_type": "code",
   "execution_count": null,
   "metadata": {},
   "outputs": [],
   "source": [
    "# load iris data\n",
    "inputData = load_iris()\n",
    "target_unencoded = inputData.target\n",
    "encoder = OneHotEncoder(sparse=False)\n",
    "reshape = inputData[\"target\"].reshape(len(inputData[\"target\"]), 1)\n",
    "target = encoder.fit_transform(reshape)\n",
    "\n",
    "# Define parameters\n",
    "n_layer = 5\n",
    "array_neuron_layer = [16,8,4, 3,3]\n",
    "array_activation = [\"linear\", \"relu\", 'linear', \"relu\", \"sigmoid\"]\n",
    "learning_rate = 0.001\n",
    "error_threshold = 0.01\n",
    "max_iter = 100\n",
    "batch_size = 1\n",
    "\n",
    "# create model\n",
    "backprop = Backpropagation(n_layer = n_layer, array_neuron_layer=array_neuron_layer, array_activation=array_activation, learning_rate=learning_rate, error_threshold=error_threshold, max_iter=max_iter, batch_size=batch_size)"
   ]
  },
  {
   "cell_type": "markdown",
   "metadata": {},
   "source": [
    "# Train Model"
   ]
  },
  {
   "cell_type": "code",
   "execution_count": null,
   "metadata": {},
   "outputs": [],
   "source": [
    "# NOMOR 3\n",
    "# split data\n",
    "X = inputData[\"data\"].tolist()\n",
    "y = target.tolist()\n",
    "\n",
    "# X, y, target_unencoded = shuffle(X, y, target_unencoded)\n",
    "\n",
    "X_train, X_test, y_train, y_test = train_test_split(X, y, test_size=0.1, random_state=499)\n",
    "X_test_backup = copy.deepcopy(X_test)\n",
    "y_test_backup = copy.deepcopy(y_test)\n",
    "\n",
    "# train model\n",
    "backprop.backpropagation(X_train, y_train)\n",
    "\n",
    "# save model\n",
    "backprop.saveModel(\"model.json\")\n"
   ]
  },
  {
   "cell_type": "markdown",
   "metadata": {},
   "source": []
  },
  {
   "cell_type": "code",
   "execution_count": null,
   "metadata": {},
   "outputs": [],
   "source": [
    "#print info\n",
    "print(\"Info\")\n",
    "backprop.printModel()\n",
    "print(\"-------------------------\")"
   ]
  },
  {
   "cell_type": "code",
   "execution_count": null,
   "metadata": {},
   "outputs": [],
   "source": [
    "#print result\n",
    "predicted = backprop.predict(X_test)\n",
    "target_unencoded = [ y_test[x].index(max(y_test[x])) for x in range(len(y_test))]\n",
    "print(\"Predicted Value\")\n",
    "print(predicted)\n",
    "print(\"Real Value\")\n",
    "print(target_unencoded)\n",
    "print()\n",
    "\n",
    "# print score accuracy\n",
    "print(\"Score Accuracy\")\n",
    "print(score_accuracy(predicted, target_unencoded))\n",
    "print()\n",
    "\n",
    "confusion_matrix_3 = confusion_matrix(predicted, target_unencoded)\n",
    "print(\"Our Confusion Matrix\")\n",
    "print(confusion_matrix_3)\n",
    "print(\"Our Confusion Matrix Statistics\")\n",
    "print(confusion_matrix_statistics(confusion_matrix_3))\n",
    "\n",
    "# Generate confusion_matrix with sklearn's confusion_matrix\n",
    "sklearn_confusion_matrix = cm(target_unencoded, predicted)\n",
    "print(\"Sklearn Confusion Matrix\")\n",
    "print(sklearn_confusion_matrix)\n",
    "print(\"Sklearn Confusion Matrix Statistics\")\n",
    "print(\"Accuracy:\", accuracy_score(target_unencoded, predicted))\n",
    "# Prevent ill-defined warning in precision and recall\n",
    "print(\"Precision:\", precision_score(target_unencoded, predicted, average='micro'))\n",
    "print(\"Recall:\", recall_score(target_unencoded, predicted, average='micro'))\n",
    "print(\"F1 Score:\", f1_score(target_unencoded, predicted, average='micro'))"
   ]
  },
  {
   "cell_type": "markdown",
   "metadata": {},
   "source": [
    "# 10 fold cross validation"
   ]
  },
  {
   "cell_type": "code",
   "execution_count": null,
   "metadata": {},
   "outputs": [],
   "source": [
    "kf = KFold(n_splits=10, shuffle=True)\n",
    "for train_index, test_index in kf.split(inputData[\"data\"]):\n",
    "    print(\"TRAIN:\", train_index, \"TEST:\", test_index)\n",
    "    X_train, X_test = inputData[\"data\"][train_index], inputData[\"data\"][test_index]\n",
    "    y_train, y_test = target[train_index], target[test_index]\n",
    "\n",
    "    X_train = X_train.tolist()\n",
    "    X_test = X_test.tolist()\n",
    "    y_train = y_train.tolist()\n",
    "    y_test = y_test.tolist()\n",
    "\n",
    "    backprop.backpropagation(X_train, y_train)\n",
    "    #print result\n",
    "    predicted = backprop.predict(X_test)\n",
    "    target_unencoded = [ y_test[x].index(max(y_test[x])) for x in range(len(y_test))]\n",
    "    print(\"Predicted Value\")\n",
    "    print(predicted)\n",
    "    print(\"Real Value\")\n",
    "    print(target_unencoded)\n",
    "    print()\n",
    "\n",
    "    # print score accuracy\n",
    "    print(\"Score Accuracy\")\n",
    "    print(score_accuracy(predicted, target_unencoded))\n",
    "    print()\n",
    "    print(\"Accuracy:\", accuracy_score(target_unencoded, predicted))\n",
    "    # Prevent ill-defined warning in precision and recall\n",
    "    print(\"Precision:\", precision_score(target_unencoded, predicted, average='micro'))\n",
    "    print(\"Recall:\", recall_score(target_unencoded, predicted, average='micro'))\n",
    "    print(\"F1 Score:\", f1_score(target_unencoded, predicted, average='micro'))\n"
   ]
  },
  {
   "cell_type": "markdown",
   "metadata": {},
   "source": [
    "# New Model and Data"
   ]
  },
  {
   "cell_type": "code",
   "execution_count": null,
   "metadata": {},
   "outputs": [],
   "source": [
    "# Define parameters\n",
    "n_layer = 5\n",
    "array_neuron_layer = [16,8,4, 3,3]\n",
    "array_activation = [\"linear\", \"relu\", 'linear', \"relu\", \"sigmoid\"]\n",
    "learning_rate = 0.001\n",
    "error_threshold = 0.01\n",
    "max_iter = 300\n",
    "batch_size = 1\n",
    "\n",
    "# create model and load\n",
    "newBackprop = Backpropagation(n_layer = n_layer, array_neuron_layer=array_neuron_layer, array_activation=array_activation, learning_rate=learning_rate, error_threshold=error_threshold, max_iter=max_iter, batch_size=batch_size)\n",
    "newBackprop.loadModels(\"model.json\")\n",
    "\n"
   ]
  },
  {
   "cell_type": "code",
   "execution_count": null,
   "metadata": {},
   "outputs": [],
   "source": [
    "predicted = newBackprop.predict(X_test_backup)\n",
    "target_unencoded = [ y_test_backup[x].index(max(y_test_backup[x])) for x in range(len(y_test_backup))]\n",
    "print(\"Predicted Value\")\n",
    "print(predicted)\n",
    "print(\"Real Value\")\n",
    "print(target_unencoded)\n",
    "print()\n",
    "\n",
    "# print score accuracy\n",
    "print(\"Score Accuracy\")\n",
    "print(score_accuracy(predicted, target_unencoded))"
   ]
  }
 ],
 "metadata": {
  "interpreter": {
   "hash": "1b2b158b6b0dd9a43a0af1fcf6d1c4894e0736688a7e9dd6ed3dbd08c56b9f65"
  },
  "kernelspec": {
   "display_name": "Python 3.9.5 64-bit",
   "language": "python",
   "name": "python3"
  },
  "language_info": {
   "codemirror_mode": {
    "name": "ipython",
    "version": 3
   },
   "file_extension": ".py",
   "mimetype": "text/x-python",
   "name": "python",
   "nbconvert_exporter": "python",
   "pygments_lexer": "ipython3",
   "version": "3.10.0"
  },
  "orig_nbformat": 4
 },
 "nbformat": 4,
 "nbformat_minor": 2
}
